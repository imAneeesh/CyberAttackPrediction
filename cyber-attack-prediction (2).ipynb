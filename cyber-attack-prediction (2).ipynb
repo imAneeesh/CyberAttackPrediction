{
 "cells": [
  {
   "cell_type": "markdown",
   "metadata": {},
   "source": [
    "# **Cyber Attack Prediction**"
   ]
  },
  {
   "cell_type": "code",
   "execution_count": 14,
   "metadata": {
    "_cell_guid": "b1076dfc-b9ad-4769-8c92-a6c4dae69d19",
    "_uuid": "8f2839f25d086af736a60e9eeb907d3b93b6e0e5",
    "execution": {
     "iopub.execute_input": "2022-09-24T07:29:40.763851Z",
     "iopub.status.busy": "2022-09-24T07:29:40.763437Z",
     "iopub.status.idle": "2022-09-24T07:29:40.773726Z",
     "shell.execute_reply": "2022-09-24T07:29:40.772733Z",
     "shell.execute_reply.started": "2022-09-24T07:29:40.763816Z"
    }
   },
   "outputs": [],
   "source": [
    "# This Python 3 environment comes with many helpful analytics libraries installed\n",
    "# It is defined by the kaggle/python Docker image: https://github.com/kaggle/docker-python\n",
    "# For example, here's several helpful packages to load\n",
    "\n",
    "import numpy as np # linear algebra\n",
    "import pandas as pd # data processing, CSV file I/O (e.g. pd.read_csv)\n",
    "\n",
    "# Input data files are available in the read-only \"../input/\" directory\n",
    "# For example, running this (by clicking run or pressing Shift+Enter) will list all files under the input directory\n",
    "\n",
    "import os\n",
    "for dirname, _, filenames in os.walk('/kaggle/input'):\n",
    "    for filename in filenames:\n",
    "        print(os.path.join(dirname, filename))\n",
    "\n",
    "# You can write up to 20GB to the current directory (/kaggle/working/) that gets preserved as output when you create a version using \"Save & Run All\" \n",
    "# You can also write temporary files to /kaggle/temp/, but they won't be saved outside of the current session"
   ]
  },
  {
   "cell_type": "code",
   "execution_count": 15,
   "metadata": {
    "execution": {
     "iopub.execute_input": "2022-09-24T07:29:40.776452Z",
     "iopub.status.busy": "2022-09-24T07:29:40.775881Z",
     "iopub.status.idle": "2022-09-24T07:29:40.783503Z",
     "shell.execute_reply": "2022-09-24T07:29:40.782288Z",
     "shell.execute_reply.started": "2022-09-24T07:29:40.776417Z"
    }
   },
   "outputs": [],
   "source": [
    "import numpy as np\n",
    "import pandas as pd\n",
    "import matplotlib.pyplot as plt\n",
    "import seaborn as sns\n",
    "from sklearn.model_selection import train_test_split\n",
    "from sklearn.linear_model import LinearRegression\n",
    "from sklearn.metrics import mean_absolute_error, mean_squared_error\n",
    "from joblib import dump, load"
   ]
  },
  {
   "cell_type": "code",
   "execution_count": 16,
   "metadata": {
    "execution": {
     "iopub.execute_input": "2022-09-24T07:29:40.785353Z",
     "iopub.status.busy": "2022-09-24T07:29:40.784787Z",
     "iopub.status.idle": "2022-09-24T07:29:40.804514Z",
     "shell.execute_reply": "2022-09-24T07:29:40.803246Z",
     "shell.execute_reply.started": "2022-09-24T07:29:40.785320Z"
    }
   },
   "outputs": [],
   "source": [
    "#load data\n",
    "df = pd.read_csv('cyber.csv')\n",
    "data = pd.read_csv('dataset.csv')"
   ]
  },
  {
   "cell_type": "code",
   "execution_count": 17,
   "metadata": {
    "execution": {
     "iopub.execute_input": "2022-09-24T07:29:40.807042Z",
     "iopub.status.busy": "2022-09-24T07:29:40.806178Z",
     "iopub.status.idle": "2022-09-24T07:29:40.816559Z",
     "shell.execute_reply": "2022-09-24T07:29:40.815374Z",
     "shell.execute_reply.started": "2022-09-24T07:29:40.807009Z"
    }
   },
   "outputs": [
    {
     "data": {
      "text/plain": [
       "Unique Code                              0\n",
       "State                                    0\n",
       "Year                                     0\n",
       "Population                               0\n",
       "Total Internet Subscriptions             0\n",
       "Total Broadband Subscriptions            0\n",
       "Total Wireless internet Subscriptions    0\n",
       "Cases Reported                           0\n",
       "dtype: int64"
      ]
     },
     "execution_count": 17,
     "metadata": {},
     "output_type": "execute_result"
    }
   ],
   "source": [
    "#checking for null data\n",
    "df.isnull().sum()"
   ]
  },
  {
   "cell_type": "code",
   "execution_count": 18,
   "metadata": {
    "execution": {
     "iopub.execute_input": "2022-09-24T07:29:40.819652Z",
     "iopub.status.busy": "2022-09-24T07:29:40.819195Z",
     "iopub.status.idle": "2022-09-24T07:29:40.829250Z",
     "shell.execute_reply": "2022-09-24T07:29:40.828187Z",
     "shell.execute_reply.started": "2022-09-24T07:29:40.819612Z"
    }
   },
   "outputs": [
    {
     "data": {
      "text/plain": [
       "State/UT         0\n",
       "Cases in 2015    0\n",
       "Cases in 2016    0\n",
       "Cases in 2017    0\n",
       "Cases in 2018    0\n",
       "Cases in 2019    0\n",
       "Cases in 2020    0\n",
       "Cases in 2021    0\n",
       "Total Crimes     0\n",
       "dtype: int64"
      ]
     },
     "execution_count": 18,
     "metadata": {},
     "output_type": "execute_result"
    }
   ],
   "source": [
    "data.isnull().sum()"
   ]
  },
  {
   "cell_type": "code",
   "execution_count": 19,
   "metadata": {
    "execution": {
     "iopub.execute_input": "2022-09-24T07:29:40.831208Z",
     "iopub.status.busy": "2022-09-24T07:29:40.830677Z",
     "iopub.status.idle": "2022-09-24T07:29:40.838599Z",
     "shell.execute_reply": "2022-09-24T07:29:40.837702Z",
     "shell.execute_reply.started": "2022-09-24T07:29:40.831166Z"
    }
   },
   "outputs": [
    {
     "data": {
      "text/plain": [
       "['Andhra Pradesh',\n",
       " 'Arunachal Pradesh',\n",
       " 'Assam',\n",
       " 'Bihar',\n",
       " 'Delhi',\n",
       " 'Gujarat',\n",
       " 'Haryana',\n",
       " 'Himachal Pradesh',\n",
       " 'Jammu & Kashmir',\n",
       " 'Karnataka',\n",
       " 'Kerala',\n",
       " 'Madhya Pradesh',\n",
       " 'Maharashtra',\n",
       " 'Odisha',\n",
       " 'Punjab',\n",
       " 'Rajasthan',\n",
       " 'Tamil Nadu',\n",
       " 'Uttar Pradesh',\n",
       " 'Uttarakhand',\n",
       " 'West Bengal']"
      ]
     },
     "execution_count": 19,
     "metadata": {},
     "output_type": "execute_result"
    }
   ],
   "source": [
    "states = list(set(df['State'].to_list()))\n",
    "states.sort()\n",
    "states"
   ]
  },
  {
   "cell_type": "code",
   "execution_count": 20,
   "metadata": {
    "execution": {
     "iopub.execute_input": "2022-09-24T07:29:40.840416Z",
     "iopub.status.busy": "2022-09-24T07:29:40.840014Z",
     "iopub.status.idle": "2022-09-24T07:29:40.850134Z",
     "shell.execute_reply": "2022-09-24T07:29:40.849335Z",
     "shell.execute_reply.started": "2022-09-24T07:29:40.840365Z"
    }
   },
   "outputs": [],
   "source": [
    "#take details for prediction\n",
    "state_info = {\"state\":\"Bihar\",\"year\":\"2023\",\"population\":\"128799926\",\"tis\":\"62620000\",\"tbs\":\"63950000\",\"twis\":\"59880000\"} #tis: total internet subscribers , tbs: brodband subs twis:wireles subs\n",
    "one_state = df[df['State'] == state_info['state']]"
   ]
  },
  {
   "cell_type": "code",
   "execution_count": 21,
   "metadata": {
    "execution": {
     "iopub.execute_input": "2022-09-24T07:29:40.851736Z",
     "iopub.status.busy": "2022-09-24T07:29:40.851432Z",
     "iopub.status.idle": "2022-09-24T07:29:40.877614Z",
     "shell.execute_reply": "2022-09-24T07:29:40.876785Z",
     "shell.execute_reply.started": "2022-09-24T07:29:40.851709Z"
    }
   },
   "outputs": [
    {
     "data": {
      "text/html": [
       "<div>\n",
       "<style scoped>\n",
       "    .dataframe tbody tr th:only-of-type {\n",
       "        vertical-align: middle;\n",
       "    }\n",
       "\n",
       "    .dataframe tbody tr th {\n",
       "        vertical-align: top;\n",
       "    }\n",
       "\n",
       "    .dataframe thead th {\n",
       "        text-align: right;\n",
       "    }\n",
       "</style>\n",
       "<table border=\"1\" class=\"dataframe\">\n",
       "  <thead>\n",
       "    <tr style=\"text-align: right;\">\n",
       "      <th></th>\n",
       "      <th>Unique Code</th>\n",
       "      <th>State</th>\n",
       "      <th>Year</th>\n",
       "      <th>Population</th>\n",
       "      <th>Total Internet Subscriptions</th>\n",
       "      <th>Total Broadband Subscriptions</th>\n",
       "      <th>Total Wireless internet Subscriptions</th>\n",
       "      <th>Cases Reported</th>\n",
       "    </tr>\n",
       "  </thead>\n",
       "  <tbody>\n",
       "    <tr>\n",
       "      <th>21</th>\n",
       "      <td>4</td>\n",
       "      <td>Bihar</td>\n",
       "      <td>2014</td>\n",
       "      <td>107823158</td>\n",
       "      <td>11850000.0</td>\n",
       "      <td>2100000.0</td>\n",
       "      <td>11570000.0</td>\n",
       "      <td>114</td>\n",
       "    </tr>\n",
       "    <tr>\n",
       "      <th>22</th>\n",
       "      <td>4</td>\n",
       "      <td>Bihar</td>\n",
       "      <td>2015</td>\n",
       "      <td>109798353</td>\n",
       "      <td>16580000.0</td>\n",
       "      <td>3150000.0</td>\n",
       "      <td>16300000.0</td>\n",
       "      <td>242</td>\n",
       "    </tr>\n",
       "    <tr>\n",
       "      <th>23</th>\n",
       "      <td>4</td>\n",
       "      <td>Bihar</td>\n",
       "      <td>2016</td>\n",
       "      <td>113042198</td>\n",
       "      <td>19630000.0</td>\n",
       "      <td>5820000.0</td>\n",
       "      <td>19340000.0</td>\n",
       "      <td>309</td>\n",
       "    </tr>\n",
       "    <tr>\n",
       "      <th>24</th>\n",
       "      <td>4</td>\n",
       "      <td>Bihar</td>\n",
       "      <td>2017</td>\n",
       "      <td>117153097</td>\n",
       "      <td>24100000.0</td>\n",
       "      <td>12030000.0</td>\n",
       "      <td>23810000.0</td>\n",
       "      <td>433</td>\n",
       "    </tr>\n",
       "    <tr>\n",
       "      <th>25</th>\n",
       "      <td>4</td>\n",
       "      <td>Bihar</td>\n",
       "      <td>2018</td>\n",
       "      <td>121741741</td>\n",
       "      <td>28400000.0</td>\n",
       "      <td>20520000.0</td>\n",
       "      <td>28130000.0</td>\n",
       "      <td>374</td>\n",
       "    </tr>\n",
       "    <tr>\n",
       "      <th>26</th>\n",
       "      <td>4</td>\n",
       "      <td>Bihar</td>\n",
       "      <td>2019</td>\n",
       "      <td>122256981</td>\n",
       "      <td>39340000.0</td>\n",
       "      <td>33140000.0</td>\n",
       "      <td>39060000.0</td>\n",
       "      <td>1050</td>\n",
       "    </tr>\n",
       "    <tr>\n",
       "      <th>27</th>\n",
       "      <td>4</td>\n",
       "      <td>Bihar</td>\n",
       "      <td>2020</td>\n",
       "      <td>124799926</td>\n",
       "      <td>48390000.0</td>\n",
       "      <td>43950000.0</td>\n",
       "      <td>48110000.0</td>\n",
       "      <td>1512</td>\n",
       "    </tr>\n",
       "  </tbody>\n",
       "</table>\n",
       "</div>"
      ],
      "text/plain": [
       "    Unique Code  State  Year  Population  Total Internet Subscriptions  \\\n",
       "21            4  Bihar  2014   107823158                    11850000.0   \n",
       "22            4  Bihar  2015   109798353                    16580000.0   \n",
       "23            4  Bihar  2016   113042198                    19630000.0   \n",
       "24            4  Bihar  2017   117153097                    24100000.0   \n",
       "25            4  Bihar  2018   121741741                    28400000.0   \n",
       "26            4  Bihar  2019   122256981                    39340000.0   \n",
       "27            4  Bihar  2020   124799926                    48390000.0   \n",
       "\n",
       "    Total Broadband Subscriptions  Total Wireless internet Subscriptions  \\\n",
       "21                      2100000.0                             11570000.0   \n",
       "22                      3150000.0                             16300000.0   \n",
       "23                      5820000.0                             19340000.0   \n",
       "24                     12030000.0                             23810000.0   \n",
       "25                     20520000.0                             28130000.0   \n",
       "26                     33140000.0                             39060000.0   \n",
       "27                     43950000.0                             48110000.0   \n",
       "\n",
       "    Cases Reported  \n",
       "21             114  \n",
       "22             242  \n",
       "23             309  \n",
       "24             433  \n",
       "25             374  \n",
       "26            1050  \n",
       "27            1512  "
      ]
     },
     "execution_count": 21,
     "metadata": {},
     "output_type": "execute_result"
    }
   ],
   "source": [
    "one_state"
   ]
  },
  {
   "cell_type": "code",
   "execution_count": 22,
   "metadata": {
    "execution": {
     "iopub.execute_input": "2022-09-24T07:29:40.880036Z",
     "iopub.status.busy": "2022-09-24T07:29:40.878945Z",
     "iopub.status.idle": "2022-09-24T07:29:41.332575Z",
     "shell.execute_reply": "2022-09-24T07:29:41.331367Z",
     "shell.execute_reply.started": "2022-09-24T07:29:40.880002Z"
    }
   },
   "outputs": [
    {
     "data": {
      "text/plain": [
       "<AxesSubplot:xlabel='Year', ylabel='Cases Reported'>"
      ]
     },
     "execution_count": 22,
     "metadata": {},
     "output_type": "execute_result"
    },
    {
     "data": {
      "image/png": "[encoded data removed]",
      "text/plain": [
       "<Figure size 1800x800 with 1 Axes>"
      ]
     },
     "metadata": {
      "needs_background": "light"
     },
     "output_type": "display_data"
    }
   ],
   "source": [
    "plt.figure(figsize=(9,4), dpi=200, alpha=0.5)\n",
    "sns.regplot(data=df, x='Year', y='Cases Reported')"
   ]
  },
  {
   "cell_type": "code",
   "execution_count": 23,
   "metadata": {
    "execution": {
     "iopub.execute_input": "2022-09-24T07:29:41.334779Z",
     "iopub.status.busy": "2022-09-24T07:29:41.334414Z",
     "iopub.status.idle": "2022-09-24T07:29:41.661510Z",
     "shell.execute_reply": "2022-09-24T07:29:41.660254Z",
     "shell.execute_reply.started": "2022-09-24T07:29:41.334745Z"
    }
   },
   "outputs": [
    {
     "data": {
      "text/plain": [
       "<AxesSubplot:xlabel='Year', ylabel='Cases Reported'>"
      ]
     },
     "execution_count": 23,
     "metadata": {},
     "output_type": "execute_result"
    },
    {
     "data": {
      "image/png": "[encoded data removed]",
      "text/plain": [
       "<Figure size 432x288 with 1 Axes>"
      ]
     },
     "metadata": {
      "needs_background": "light"
     },
     "output_type": "display_data"
    }
   ],
   "source": [
    "sns.regplot(data=one_state,x='Year',y='Cases Reported')"
   ]
  },
  {
   "cell_type": "code",
   "execution_count": 24,
   "metadata": {
    "execution": {
     "iopub.execute_input": "2022-09-24T07:29:41.665281Z",
     "iopub.status.busy": "2022-09-24T07:29:41.664942Z",
     "iopub.status.idle": "2022-09-24T07:29:41.680712Z",
     "shell.execute_reply": "2022-09-24T07:29:41.679332Z",
     "shell.execute_reply.started": "2022-09-24T07:29:41.665251Z"
    }
   },
   "outputs": [
    {
     "data": {
      "text/html": [
       "<div>\n",
       "<style scoped>\n",
       "    .dataframe tbody tr th:only-of-type {\n",
       "        vertical-align: middle;\n",
       "    }\n",
       "\n",
       "    .dataframe tbody tr th {\n",
       "        vertical-align: top;\n",
       "    }\n",
       "\n",
       "    .dataframe thead th {\n",
       "        text-align: right;\n",
       "    }\n",
       "</style>\n",
       "<table border=\"1\" class=\"dataframe\">\n",
       "  <thead>\n",
       "    <tr style=\"text-align: right;\">\n",
       "      <th></th>\n",
       "      <th>Year</th>\n",
       "      <th>Population</th>\n",
       "      <th>Total Internet Subscriptions</th>\n",
       "      <th>Total Broadband Subscriptions</th>\n",
       "      <th>Total Wireless internet Subscriptions</th>\n",
       "    </tr>\n",
       "  </thead>\n",
       "  <tbody>\n",
       "    <tr>\n",
       "      <th>21</th>\n",
       "      <td>2014</td>\n",
       "      <td>107823158</td>\n",
       "      <td>11850000.0</td>\n",
       "      <td>2100000.0</td>\n",
       "      <td>11570000.0</td>\n",
       "    </tr>\n",
       "    <tr>\n",
       "      <th>22</th>\n",
       "      <td>2015</td>\n",
       "      <td>109798353</td>\n",
       "      <td>16580000.0</td>\n",
       "      <td>3150000.0</td>\n",
       "      <td>16300000.0</td>\n",
       "    </tr>\n",
       "    <tr>\n",
       "      <th>23</th>\n",
       "      <td>2016</td>\n",
       "      <td>113042198</td>\n",
       "      <td>19630000.0</td>\n",
       "      <td>5820000.0</td>\n",
       "      <td>19340000.0</td>\n",
       "    </tr>\n",
       "    <tr>\n",
       "      <th>24</th>\n",
       "      <td>2017</td>\n",
       "      <td>117153097</td>\n",
       "      <td>24100000.0</td>\n",
       "      <td>12030000.0</td>\n",
       "      <td>23810000.0</td>\n",
       "    </tr>\n",
       "    <tr>\n",
       "      <th>25</th>\n",
       "      <td>2018</td>\n",
       "      <td>121741741</td>\n",
       "      <td>28400000.0</td>\n",
       "      <td>20520000.0</td>\n",
       "      <td>28130000.0</td>\n",
       "    </tr>\n",
       "    <tr>\n",
       "      <th>26</th>\n",
       "      <td>2019</td>\n",
       "      <td>122256981</td>\n",
       "      <td>39340000.0</td>\n",
       "      <td>33140000.0</td>\n",
       "      <td>39060000.0</td>\n",
       "    </tr>\n",
       "    <tr>\n",
       "      <th>27</th>\n",
       "      <td>2020</td>\n",
       "      <td>124799926</td>\n",
       "      <td>48390000.0</td>\n",
       "      <td>43950000.0</td>\n",
       "      <td>48110000.0</td>\n",
       "    </tr>\n",
       "  </tbody>\n",
       "</table>\n",
       "</div>"
      ],
      "text/plain": [
       "    Year  Population  Total Internet Subscriptions  \\\n",
       "21  2014   107823158                    11850000.0   \n",
       "22  2015   109798353                    16580000.0   \n",
       "23  2016   113042198                    19630000.0   \n",
       "24  2017   117153097                    24100000.0   \n",
       "25  2018   121741741                    28400000.0   \n",
       "26  2019   122256981                    39340000.0   \n",
       "27  2020   124799926                    48390000.0   \n",
       "\n",
       "    Total Broadband Subscriptions  Total Wireless internet Subscriptions  \n",
       "21                      2100000.0                             11570000.0  \n",
       "22                      3150000.0                             16300000.0  \n",
       "23                      5820000.0                             19340000.0  \n",
       "24                     12030000.0                             23810000.0  \n",
       "25                     20520000.0                             28130000.0  \n",
       "26                     33140000.0                             39060000.0  \n",
       "27                     43950000.0                             48110000.0  "
      ]
     },
     "execution_count": 24,
     "metadata": {},
     "output_type": "execute_result"
    }
   ],
   "source": [
    "#drop unwanted columns\n",
    "X = one_state.drop(['Unique Code', 'State', 'Cases Reported'], axis=1)\n",
    "y = one_state['Cases Reported']\n",
    "X"
   ]
  },
  {
   "cell_type": "code",
   "execution_count": 25,
   "metadata": {
    "execution": {
     "iopub.execute_input": "2022-09-24T07:29:41.682856Z",
     "iopub.status.busy": "2022-09-24T07:29:41.682477Z",
     "iopub.status.idle": "2022-09-24T07:29:41.693639Z",
     "shell.execute_reply": "2022-09-24T07:29:41.692534Z",
     "shell.execute_reply.started": "2022-09-24T07:29:41.682801Z"
    }
   },
   "outputs": [
    {
     "data": {
      "text/plain": [
       "21     114\n",
       "22     242\n",
       "23     309\n",
       "24     433\n",
       "25     374\n",
       "26    1050\n",
       "27    1512\n",
       "Name: Cases Reported, dtype: int64"
      ]
     },
     "execution_count": 25,
     "metadata": {},
     "output_type": "execute_result"
    }
   ],
   "source": [
    "y"
   ]
  },
  {
   "cell_type": "code",
   "execution_count": null,
   "metadata": {},
   "outputs": [],
   "source": []
  },
  {
   "cell_type": "markdown",
   "metadata": {},
   "source": [
    "Train and Test"
   ]
  },
  {
   "cell_type": "code",
   "execution_count": 26,
   "metadata": {
    "execution": {
     "iopub.execute_input": "2022-09-24T07:29:41.695350Z",
     "iopub.status.busy": "2022-09-24T07:29:41.694985Z",
     "iopub.status.idle": "2022-09-24T07:29:41.704334Z",
     "shell.execute_reply": "2022-09-24T07:29:41.703336Z",
     "shell.execute_reply.started": "2022-09-24T07:29:41.695290Z"
    }
   },
   "outputs": [],
   "source": [
    "X_train, X_test, y_train, y_test = train_test_split(X, y, test_size=0.3, random_state=25)"
   ]
  },
  {
   "cell_type": "code",
   "execution_count": 27,
   "metadata": {
    "execution": {
     "iopub.execute_input": "2022-09-24T07:29:41.705960Z",
     "iopub.status.busy": "2022-09-24T07:29:41.705603Z",
     "iopub.status.idle": "2022-09-24T07:29:41.726795Z",
     "shell.execute_reply": "2022-09-24T07:29:41.725491Z",
     "shell.execute_reply.started": "2022-09-24T07:29:41.705929Z"
    }
   },
   "outputs": [
    {
     "data": {
      "text/html": [
       "<div>\n",
       "<style scoped>\n",
       "    .dataframe tbody tr th:only-of-type {\n",
       "        vertical-align: middle;\n",
       "    }\n",
       "\n",
       "    .dataframe tbody tr th {\n",
       "        vertical-align: top;\n",
       "    }\n",
       "\n",
       "    .dataframe thead th {\n",
       "        text-align: right;\n",
       "    }\n",
       "</style>\n",
       "<table border=\"1\" class=\"dataframe\">\n",
       "  <thead>\n",
       "    <tr style=\"text-align: right;\">\n",
       "      <th></th>\n",
       "      <th>Year</th>\n",
       "      <th>Population</th>\n",
       "      <th>Total Internet Subscriptions</th>\n",
       "      <th>Total Broadband Subscriptions</th>\n",
       "      <th>Total Wireless internet Subscriptions</th>\n",
       "    </tr>\n",
       "  </thead>\n",
       "  <tbody>\n",
       "    <tr>\n",
       "      <th>26</th>\n",
       "      <td>2019</td>\n",
       "      <td>122256981</td>\n",
       "      <td>39340000.0</td>\n",
       "      <td>33140000.0</td>\n",
       "      <td>39060000.0</td>\n",
       "    </tr>\n",
       "    <tr>\n",
       "      <th>27</th>\n",
       "      <td>2020</td>\n",
       "      <td>124799926</td>\n",
       "      <td>48390000.0</td>\n",
       "      <td>43950000.0</td>\n",
       "      <td>48110000.0</td>\n",
       "    </tr>\n",
       "    <tr>\n",
       "      <th>23</th>\n",
       "      <td>2016</td>\n",
       "      <td>113042198</td>\n",
       "      <td>19630000.0</td>\n",
       "      <td>5820000.0</td>\n",
       "      <td>19340000.0</td>\n",
       "    </tr>\n",
       "    <tr>\n",
       "      <th>25</th>\n",
       "      <td>2018</td>\n",
       "      <td>121741741</td>\n",
       "      <td>28400000.0</td>\n",
       "      <td>20520000.0</td>\n",
       "      <td>28130000.0</td>\n",
       "    </tr>\n",
       "  </tbody>\n",
       "</table>\n",
       "</div>"
      ],
      "text/plain": [
       "    Year  Population  Total Internet Subscriptions  \\\n",
       "26  2019   122256981                    39340000.0   \n",
       "27  2020   124799926                    48390000.0   \n",
       "23  2016   113042198                    19630000.0   \n",
       "25  2018   121741741                    28400000.0   \n",
       "\n",
       "    Total Broadband Subscriptions  Total Wireless internet Subscriptions  \n",
       "26                     33140000.0                             39060000.0  \n",
       "27                     43950000.0                             48110000.0  \n",
       "23                      5820000.0                             19340000.0  \n",
       "25                     20520000.0                             28130000.0  "
      ]
     },
     "execution_count": 27,
     "metadata": {},
     "output_type": "execute_result"
    }
   ],
   "source": [
    "X_train"
   ]
  },
  {
   "cell_type": "code",
   "execution_count": 28,
   "metadata": {
    "execution": {
     "iopub.execute_input": "2022-09-24T07:29:41.728388Z",
     "iopub.status.busy": "2022-09-24T07:29:41.728056Z",
     "iopub.status.idle": "2022-09-24T07:29:41.744131Z",
     "shell.execute_reply": "2022-09-24T07:29:41.742920Z",
     "shell.execute_reply.started": "2022-09-24T07:29:41.728359Z"
    }
   },
   "outputs": [
    {
     "data": {
      "text/html": [
       "<div>\n",
       "<style scoped>\n",
       "    .dataframe tbody tr th:only-of-type {\n",
       "        vertical-align: middle;\n",
       "    }\n",
       "\n",
       "    .dataframe tbody tr th {\n",
       "        vertical-align: top;\n",
       "    }\n",
       "\n",
       "    .dataframe thead th {\n",
       "        text-align: right;\n",
       "    }\n",
       "</style>\n",
       "<table border=\"1\" class=\"dataframe\">\n",
       "  <thead>\n",
       "    <tr style=\"text-align: right;\">\n",
       "      <th></th>\n",
       "      <th>Year</th>\n",
       "      <th>Population</th>\n",
       "      <th>Total Internet Subscriptions</th>\n",
       "      <th>Total Broadband Subscriptions</th>\n",
       "      <th>Total Wireless internet Subscriptions</th>\n",
       "    </tr>\n",
       "  </thead>\n",
       "  <tbody>\n",
       "    <tr>\n",
       "      <th>24</th>\n",
       "      <td>2017</td>\n",
       "      <td>117153097</td>\n",
       "      <td>24100000.0</td>\n",
       "      <td>12030000.0</td>\n",
       "      <td>23810000.0</td>\n",
       "    </tr>\n",
       "    <tr>\n",
       "      <th>21</th>\n",
       "      <td>2014</td>\n",
       "      <td>107823158</td>\n",
       "      <td>11850000.0</td>\n",
       "      <td>2100000.0</td>\n",
       "      <td>11570000.0</td>\n",
       "    </tr>\n",
       "    <tr>\n",
       "      <th>22</th>\n",
       "      <td>2015</td>\n",
       "      <td>109798353</td>\n",
       "      <td>16580000.0</td>\n",
       "      <td>3150000.0</td>\n",
       "      <td>16300000.0</td>\n",
       "    </tr>\n",
       "  </tbody>\n",
       "</table>\n",
       "</div>"
      ],
      "text/plain": [
       "    Year  Population  Total Internet Subscriptions  \\\n",
       "24  2017   117153097                    24100000.0   \n",
       "21  2014   107823158                    11850000.0   \n",
       "22  2015   109798353                    16580000.0   \n",
       "\n",
       "    Total Broadband Subscriptions  Total Wireless internet Subscriptions  \n",
       "24                     12030000.0                             23810000.0  \n",
       "21                      2100000.0                             11570000.0  \n",
       "22                      3150000.0                             16300000.0  "
      ]
     },
     "execution_count": 28,
     "metadata": {},
     "output_type": "execute_result"
    }
   ],
   "source": [
    "X_test"
   ]
  },
  {
   "cell_type": "code",
   "execution_count": 29,
   "metadata": {
    "execution": {
     "iopub.execute_input": "2022-09-24T07:29:41.745927Z",
     "iopub.status.busy": "2022-09-24T07:29:41.745598Z",
     "iopub.status.idle": "2022-09-24T07:29:41.760686Z",
     "shell.execute_reply": "2022-09-24T07:29:41.759657Z",
     "shell.execute_reply.started": "2022-09-24T07:29:41.745900Z"
    }
   },
   "outputs": [
    {
     "data": {
      "text/plain": [
       "LinearRegression()"
      ]
     },
     "execution_count": 29,
     "metadata": {},
     "output_type": "execute_result"
    }
   ],
   "source": [
    "model = LinearRegression()\n",
    "model.fit(X_train, y_train)"
   ]
  },
  {
   "cell_type": "code",
   "execution_count": 30,
   "metadata": {
    "execution": {
     "iopub.execute_input": "2022-09-24T07:29:41.764339Z",
     "iopub.status.busy": "2022-09-24T07:29:41.763587Z",
     "iopub.status.idle": "2022-09-24T07:29:41.778251Z",
     "shell.execute_reply": "2022-09-24T07:29:41.777065Z",
     "shell.execute_reply.started": "2022-09-24T07:29:41.764265Z"
    }
   },
   "outputs": [
    {
     "data": {
      "text/plain": [
       "array([ 394.13420562, -135.00444352,  221.21981649])"
      ]
     },
     "execution_count": 30,
     "metadata": {},
     "output_type": "execute_result"
    }
   ],
   "source": [
    "predictions = model.predict(X_test)\n",
    "predictions"
   ]
  },
  {
   "cell_type": "code",
   "execution_count": 31,
   "metadata": {
    "execution": {
     "iopub.execute_input": "2022-09-24T07:29:41.781325Z",
     "iopub.status.busy": "2022-09-24T07:29:41.780544Z",
     "iopub.status.idle": "2022-09-24T07:29:41.789403Z",
     "shell.execute_reply": "2022-09-24T07:29:41.788279Z",
     "shell.execute_reply.started": "2022-09-24T07:29:41.781256Z"
    }
   },
   "outputs": [
    {
     "data": {
      "text/plain": [
       "24    433\n",
       "21    114\n",
       "22    242\n",
       "Name: Cases Reported, dtype: int64"
      ]
     },
     "execution_count": 31,
     "metadata": {},
     "output_type": "execute_result"
    }
   ],
   "source": [
    "y_test"
   ]
  },
  {
   "cell_type": "code",
   "execution_count": 32,
   "metadata": {
    "execution": {
     "iopub.execute_input": "2022-09-24T07:29:41.790821Z",
     "iopub.status.busy": "2022-09-24T07:29:41.790482Z",
     "iopub.status.idle": "2022-09-24T07:29:41.803660Z",
     "shell.execute_reply": "2022-09-24T07:29:41.802431Z",
     "shell.execute_reply.started": "2022-09-24T07:29:41.790792Z"
    }
   },
   "outputs": [
    {
     "data": {
      "text/plain": [
       "576.2857142857143"
      ]
     },
     "execution_count": 32,
     "metadata": {},
     "output_type": "execute_result"
    }
   ],
   "source": [
    "mean_cases = y.mean()\n",
    "mean_cases"
   ]
  },
  {
   "cell_type": "code",
   "execution_count": null,
   "metadata": {},
   "outputs": [],
   "source": []
  },
  {
   "cell_type": "code",
   "execution_count": 33,
   "metadata": {
    "execution": {
     "iopub.execute_input": "2022-09-24T07:29:41.805727Z",
     "iopub.status.busy": "2022-09-24T07:29:41.805341Z",
     "iopub.status.idle": "2022-09-24T07:29:42.056052Z",
     "shell.execute_reply": "2022-09-24T07:29:42.054836Z",
     "shell.execute_reply.started": "2022-09-24T07:29:41.805696Z"
    }
   },
   "outputs": [
    {
     "data": {
      "text/plain": [
       "<AxesSubplot:xlabel='Cases Reported', ylabel='Count'>"
      ]
     },
     "execution_count": 33,
     "metadata": {},
     "output_type": "execute_result"
    },
    {
     "data": {
      "image/png": "[encoded data removed]",
      "text/plain": [
       "<Figure size 432x288 with 1 Axes>"
      ]
     },
     "metadata": {
      "needs_background": "light"
     },
     "output_type": "display_data"
    }
   ],
   "source": [
    "sns.histplot(data=one_state, x='Cases Reported', bins=20, kde=True)"
   ]
  },
  {
   "cell_type": "code",
   "execution_count": 34,
   "metadata": {
    "execution": {
     "iopub.execute_input": "2022-09-24T07:29:42.058136Z",
     "iopub.status.busy": "2022-09-24T07:29:42.057694Z",
     "iopub.status.idle": "2022-09-24T07:29:42.064707Z",
     "shell.execute_reply": "2022-09-24T07:29:42.063481Z",
     "shell.execute_reply.started": "2022-09-24T07:29:42.058082Z"
    }
   },
   "outputs": [],
   "source": [
    "mae = mean_absolute_error(y_test,predictions)\n",
    "rmse = np.sqrt(mean_squared_error(y_test, predictions))"
   ]
  },
  {
   "cell_type": "code",
   "execution_count": 35,
   "metadata": {
    "execution": {
     "iopub.execute_input": "2022-09-24T07:29:42.067104Z",
     "iopub.status.busy": "2022-09-24T07:29:42.066048Z",
     "iopub.status.idle": "2022-09-24T07:29:42.079648Z",
     "shell.execute_reply": "2022-09-24T07:29:42.078356Z",
     "shell.execute_reply.started": "2022-09-24T07:29:42.067070Z"
    }
   },
   "outputs": [
    {
     "data": {
      "text/plain": [
       "(576.2857142857143, 102.88347380420267, 145.99723615266194)"
      ]
     },
     "execution_count": 35,
     "metadata": {},
     "output_type": "execute_result"
    }
   ],
   "source": [
    "mean_cases, mae, rmse"
   ]
  },
  {
   "cell_type": "code",
   "execution_count": 36,
   "metadata": {
    "execution": {
     "iopub.execute_input": "2022-09-24T07:29:42.081724Z",
     "iopub.status.busy": "2022-09-24T07:29:42.081320Z",
     "iopub.status.idle": "2022-09-24T07:29:42.090765Z",
     "shell.execute_reply": "2022-09-24T07:29:42.089844Z",
     "shell.execute_reply.started": "2022-09-24T07:29:42.081691Z"
    }
   },
   "outputs": [],
   "source": [
    "residuals = y_test - predictions"
   ]
  },
  {
   "cell_type": "code",
   "execution_count": 37,
   "metadata": {
    "execution": {
     "iopub.execute_input": "2022-09-24T07:29:42.097702Z",
     "iopub.status.busy": "2022-09-24T07:29:42.097361Z",
     "iopub.status.idle": "2022-09-24T07:29:42.588169Z",
     "shell.execute_reply": "2022-09-24T07:29:42.586844Z",
     "shell.execute_reply.started": "2022-09-24T07:29:42.097674Z"
    }
   },
   "outputs": [
    {
     "data": {
      "text/plain": [
       "<matplotlib.lines.Line2D at 0x1ea79d8b2e0>"
      ]
     },
     "execution_count": 37,
     "metadata": {},
     "output_type": "execute_result"
    },
    {
     "data": {
      "image/png": "[encoded data removed]",
      "text/plain": [
       "<Figure size 432x288 with 1 Axes>"
      ]
     },
     "metadata": {
      "needs_background": "light"
     },
     "output_type": "display_data"
    }
   ],
   "source": [
    "sns.scatterplot(x=y_test, y=residuals)\n",
    "plt.axhline(y=0, color='r', ls='--')"
   ]
  },
  {
   "cell_type": "code",
   "execution_count": 38,
   "metadata": {
    "execution": {
     "iopub.execute_input": "2022-09-24T07:29:42.590036Z",
     "iopub.status.busy": "2022-09-24T07:29:42.589623Z",
     "iopub.status.idle": "2022-09-24T07:29:42.949482Z",
     "shell.execute_reply": "2022-09-24T07:29:42.948660Z",
     "shell.execute_reply.started": "2022-09-24T07:29:42.589993Z"
    }
   },
   "outputs": [
    {
     "data": {
      "text/plain": [
       "<seaborn.axisgrid.FacetGrid at 0x1ea7aa06100>"
      ]
     },
     "execution_count": 38,
     "metadata": {},
     "output_type": "execute_result"
    },
    {
     "data": {
      "image/png": "[encoded data removed]",
      "text/plain": [
       "<Figure size 360x360 with 1 Axes>"
      ]
     },
     "metadata": {
      "needs_background": "light"
     },
     "output_type": "display_data"
    }
   ],
   "source": [
    "sns.displot(residuals, bins=20, kde=True)"
   ]
  },
  {
   "cell_type": "code",
   "execution_count": 39,
   "metadata": {
    "execution": {
     "iopub.execute_input": "2022-09-24T07:29:42.952142Z",
     "iopub.status.busy": "2022-09-24T07:29:42.950914Z",
     "iopub.status.idle": "2022-09-24T07:29:42.961352Z",
     "shell.execute_reply": "2022-09-24T07:29:42.960058Z",
     "shell.execute_reply.started": "2022-09-24T07:29:42.952050Z"
    }
   },
   "outputs": [
    {
     "data": {
      "text/plain": [
       "LinearRegression()"
      ]
     },
     "execution_count": 39,
     "metadata": {},
     "output_type": "execute_result"
    }
   ],
   "source": [
    "final_model = LinearRegression()\n",
    "final_model.fit(X.values,y.values)"
   ]
  },
  {
   "cell_type": "code",
   "execution_count": 40,
   "metadata": {
    "execution": {
     "iopub.execute_input": "2022-09-24T07:29:42.963196Z",
     "iopub.status.busy": "2022-09-24T07:29:42.962718Z",
     "iopub.status.idle": "2022-09-24T07:29:42.984119Z",
     "shell.execute_reply": "2022-09-24T07:29:42.983012Z",
     "shell.execute_reply.started": "2022-09-24T07:29:42.963144Z"
    }
   },
   "outputs": [
    {
     "data": {
      "text/html": [
       "<div>\n",
       "<style scoped>\n",
       "    .dataframe tbody tr th:only-of-type {\n",
       "        vertical-align: middle;\n",
       "    }\n",
       "\n",
       "    .dataframe tbody tr th {\n",
       "        vertical-align: top;\n",
       "    }\n",
       "\n",
       "    .dataframe thead th {\n",
       "        text-align: right;\n",
       "    }\n",
       "</style>\n",
       "<table border=\"1\" class=\"dataframe\">\n",
       "  <thead>\n",
       "    <tr style=\"text-align: right;\">\n",
       "      <th></th>\n",
       "      <th>Year</th>\n",
       "      <th>Population</th>\n",
       "      <th>Total Internet Subscriptions</th>\n",
       "      <th>Total Broadband Subscriptions</th>\n",
       "      <th>Total Wireless internet Subscriptions</th>\n",
       "    </tr>\n",
       "  </thead>\n",
       "  <tbody>\n",
       "    <tr>\n",
       "      <th>21</th>\n",
       "      <td>2014</td>\n",
       "      <td>107823158</td>\n",
       "      <td>11850000.0</td>\n",
       "      <td>2100000.0</td>\n",
       "      <td>11570000.0</td>\n",
       "    </tr>\n",
       "    <tr>\n",
       "      <th>22</th>\n",
       "      <td>2015</td>\n",
       "      <td>109798353</td>\n",
       "      <td>16580000.0</td>\n",
       "      <td>3150000.0</td>\n",
       "      <td>16300000.0</td>\n",
       "    </tr>\n",
       "    <tr>\n",
       "      <th>23</th>\n",
       "      <td>2016</td>\n",
       "      <td>113042198</td>\n",
       "      <td>19630000.0</td>\n",
       "      <td>5820000.0</td>\n",
       "      <td>19340000.0</td>\n",
       "    </tr>\n",
       "    <tr>\n",
       "      <th>24</th>\n",
       "      <td>2017</td>\n",
       "      <td>117153097</td>\n",
       "      <td>24100000.0</td>\n",
       "      <td>12030000.0</td>\n",
       "      <td>23810000.0</td>\n",
       "    </tr>\n",
       "    <tr>\n",
       "      <th>25</th>\n",
       "      <td>2018</td>\n",
       "      <td>121741741</td>\n",
       "      <td>28400000.0</td>\n",
       "      <td>20520000.0</td>\n",
       "      <td>28130000.0</td>\n",
       "    </tr>\n",
       "    <tr>\n",
       "      <th>26</th>\n",
       "      <td>2019</td>\n",
       "      <td>122256981</td>\n",
       "      <td>39340000.0</td>\n",
       "      <td>33140000.0</td>\n",
       "      <td>39060000.0</td>\n",
       "    </tr>\n",
       "    <tr>\n",
       "      <th>27</th>\n",
       "      <td>2020</td>\n",
       "      <td>124799926</td>\n",
       "      <td>48390000.0</td>\n",
       "      <td>43950000.0</td>\n",
       "      <td>48110000.0</td>\n",
       "    </tr>\n",
       "  </tbody>\n",
       "</table>\n",
       "</div>"
      ],
      "text/plain": [
       "    Year  Population  Total Internet Subscriptions  \\\n",
       "21  2014   107823158                    11850000.0   \n",
       "22  2015   109798353                    16580000.0   \n",
       "23  2016   113042198                    19630000.0   \n",
       "24  2017   117153097                    24100000.0   \n",
       "25  2018   121741741                    28400000.0   \n",
       "26  2019   122256981                    39340000.0   \n",
       "27  2020   124799926                    48390000.0   \n",
       "\n",
       "    Total Broadband Subscriptions  Total Wireless internet Subscriptions  \n",
       "21                      2100000.0                             11570000.0  \n",
       "22                      3150000.0                             16300000.0  \n",
       "23                      5820000.0                             19340000.0  \n",
       "24                     12030000.0                             23810000.0  \n",
       "25                     20520000.0                             28130000.0  \n",
       "26                     33140000.0                             39060000.0  \n",
       "27                     43950000.0                             48110000.0  "
      ]
     },
     "execution_count": 40,
     "metadata": {},
     "output_type": "execute_result"
    }
   ],
   "source": [
    "X"
   ]
  },
  {
   "cell_type": "code",
   "execution_count": 41,
   "metadata": {
    "execution": {
     "iopub.execute_input": "2022-09-24T07:29:42.988166Z",
     "iopub.status.busy": "2022-09-24T07:29:42.987269Z",
     "iopub.status.idle": "2022-09-24T07:29:42.998794Z",
     "shell.execute_reply": "2022-09-24T07:29:42.997574Z",
     "shell.execute_reply.started": "2022-09-24T07:29:42.988130Z"
    }
   },
   "outputs": [
    {
     "data": {
      "text/plain": [
       "21     114\n",
       "22     242\n",
       "23     309\n",
       "24     433\n",
       "25     374\n",
       "26    1050\n",
       "27    1512\n",
       "Name: Cases Reported, dtype: int64"
      ]
     },
     "execution_count": 41,
     "metadata": {},
     "output_type": "execute_result"
    }
   ],
   "source": [
    "y"
   ]
  },
  {
   "cell_type": "code",
   "execution_count": 42,
   "metadata": {
    "execution": {
     "iopub.execute_input": "2022-09-24T07:29:43.001460Z",
     "iopub.status.busy": "2022-09-24T07:29:43.000969Z",
     "iopub.status.idle": "2022-09-24T07:29:43.009533Z",
     "shell.execute_reply": "2022-09-24T07:29:43.008532Z",
     "shell.execute_reply.started": "2022-09-24T07:29:43.001417Z"
    }
   },
   "outputs": [
    {
     "data": {
      "text/plain": [
       "array([-2.94123516e+02,  1.29440299e-05,  7.87757733e-03, -2.88240718e-06,\n",
       "       -7.79369534e-03])"
      ]
     },
     "execution_count": 42,
     "metadata": {},
     "output_type": "execute_result"
    }
   ],
   "source": [
    "final_model.coef_"
   ]
  },
  {
   "cell_type": "code",
   "execution_count": 43,
   "metadata": {
    "execution": {
     "iopub.execute_input": "2022-09-24T07:29:43.011705Z",
     "iopub.status.busy": "2022-09-24T07:29:43.011028Z",
     "iopub.status.idle": "2022-09-24T07:29:43.024154Z",
     "shell.execute_reply": "2022-09-24T07:29:43.022993Z",
     "shell.execute_reply.started": "2022-09-24T07:29:43.011662Z"
    }
   },
   "outputs": [
    {
     "data": {
      "text/plain": [
       "array([ 114.49439363,  239.67313247,  313.61903003,  429.7598475 ,\n",
       "        375.37887753, 1047.15455817, 1513.92016066])"
      ]
     },
     "execution_count": 43,
     "metadata": {},
     "output_type": "execute_result"
    }
   ],
   "source": [
    "predicted_crimes = final_model.predict(X.values)\n",
    "predicted_crimes"
   ]
  },
  {
   "cell_type": "code",
   "execution_count": 44,
   "metadata": {
    "execution": {
     "iopub.execute_input": "2022-09-24T07:29:43.027718Z",
     "iopub.status.busy": "2022-09-24T07:29:43.027020Z",
     "iopub.status.idle": "2022-09-24T07:29:43.039395Z",
     "shell.execute_reply": "2022-09-24T07:29:43.038023Z",
     "shell.execute_reply.started": "2022-09-24T07:29:43.027683Z"
    }
   },
   "outputs": [
    {
     "data": {
      "text/plain": [
       "21     114\n",
       "22     242\n",
       "23     309\n",
       "24     433\n",
       "25     374\n",
       "26    1050\n",
       "27    1512\n",
       "Name: Cases Reported, dtype: int64"
      ]
     },
     "execution_count": 44,
     "metadata": {},
     "output_type": "execute_result"
    }
   ],
   "source": [
    "y"
   ]
  },
  {
   "cell_type": "code",
   "execution_count": 45,
   "metadata": {
    "execution": {
     "iopub.execute_input": "2022-09-24T07:29:43.042086Z",
     "iopub.status.busy": "2022-09-24T07:29:43.041331Z",
     "iopub.status.idle": "2022-09-24T07:29:43.303168Z",
     "shell.execute_reply": "2022-09-24T07:29:43.301969Z",
     "shell.execute_reply.started": "2022-09-24T07:29:43.042042Z"
    }
   },
   "outputs": [
    {
     "data": {
      "image/png": "[encoded data removed]",
      "text/plain": [
       "<Figure size 1200x1200 with 1 Axes>"
      ]
     },
     "metadata": {
      "needs_background": "light"
     },
     "output_type": "display_data"
    }
   ],
   "source": [
    "fig = plt.figure(figsize=(6,6), dpi=200)\n",
    "axes = fig.add_axes([0,0,0.5,0.5])\n",
    "axes.plot(one_state['Year'], one_state['Cases Reported'], 'o', color='red', linestyle='dashed',label=\"Actual Data\");\n",
    "axes.plot(one_state['Year'], predicted_crimes, 'o', color='blue', linestyle='dashed', alpha=0.6,label=\"Predicted Data\");"
   ]
  },
  {
   "cell_type": "code",
   "execution_count": 46,
   "metadata": {
    "execution": {
     "iopub.execute_input": "2022-09-24T07:29:43.304770Z",
     "iopub.status.busy": "2022-09-24T07:29:43.304411Z",
     "iopub.status.idle": "2022-09-24T07:29:43.562339Z",
     "shell.execute_reply": "2022-09-24T07:29:43.561366Z",
     "shell.execute_reply.started": "2022-09-24T07:29:43.304705Z"
    }
   },
   "outputs": [
    {
     "data": {
      "text/plain": [
       "<BarContainer object of 7 artists>"
      ]
     },
     "execution_count": 46,
     "metadata": {},
     "output_type": "execute_result"
    },
    {
     "data": {
      "image/png": "[encoded data removed]",
      "text/plain": [
       "<Figure size 432x288 with 1 Axes>"
      ]
     },
     "metadata": {
      "needs_background": "light"
     },
     "output_type": "display_data"
    }
   ],
   "source": [
    "plt.bar(one_state['Year'], one_state['Cases Reported'],color=\"red\",label=\"Actual Data\")\n",
    "plt.bar(one_state['Year'], predicted_crimes,0.4,color=\"blue\",label=\"Predicted Data\")"
   ]
  },
  {
   "cell_type": "code",
   "execution_count": 47,
   "metadata": {
    "execution": {
     "iopub.execute_input": "2022-09-24T07:29:43.564455Z",
     "iopub.status.busy": "2022-09-24T07:29:43.564104Z",
     "iopub.status.idle": "2022-09-24T07:29:43.579046Z",
     "shell.execute_reply": "2022-09-24T07:29:43.577862Z",
     "shell.execute_reply.started": "2022-09-24T07:29:43.564423Z"
    }
   },
   "outputs": [
    {
     "data": {
      "text/html": [
       "<div>\n",
       "<style scoped>\n",
       "    .dataframe tbody tr th:only-of-type {\n",
       "        vertical-align: middle;\n",
       "    }\n",
       "\n",
       "    .dataframe tbody tr th {\n",
       "        vertical-align: top;\n",
       "    }\n",
       "\n",
       "    .dataframe thead th {\n",
       "        text-align: right;\n",
       "    }\n",
       "</style>\n",
       "<table border=\"1\" class=\"dataframe\">\n",
       "  <thead>\n",
       "    <tr style=\"text-align: right;\">\n",
       "      <th></th>\n",
       "      <th>Unique Code</th>\n",
       "      <th>State</th>\n",
       "      <th>Year</th>\n",
       "      <th>Population</th>\n",
       "      <th>Total Internet Subscriptions</th>\n",
       "      <th>Total Broadband Subscriptions</th>\n",
       "      <th>Total Wireless internet Subscriptions</th>\n",
       "      <th>Cases Reported</th>\n",
       "    </tr>\n",
       "  </thead>\n",
       "  <tbody>\n",
       "    <tr>\n",
       "      <th>21</th>\n",
       "      <td>4</td>\n",
       "      <td>Bihar</td>\n",
       "      <td>2014</td>\n",
       "      <td>107823158</td>\n",
       "      <td>11850000.0</td>\n",
       "      <td>2100000.0</td>\n",
       "      <td>11570000.0</td>\n",
       "      <td>114</td>\n",
       "    </tr>\n",
       "    <tr>\n",
       "      <th>22</th>\n",
       "      <td>4</td>\n",
       "      <td>Bihar</td>\n",
       "      <td>2015</td>\n",
       "      <td>109798353</td>\n",
       "      <td>16580000.0</td>\n",
       "      <td>3150000.0</td>\n",
       "      <td>16300000.0</td>\n",
       "      <td>242</td>\n",
       "    </tr>\n",
       "    <tr>\n",
       "      <th>23</th>\n",
       "      <td>4</td>\n",
       "      <td>Bihar</td>\n",
       "      <td>2016</td>\n",
       "      <td>113042198</td>\n",
       "      <td>19630000.0</td>\n",
       "      <td>5820000.0</td>\n",
       "      <td>19340000.0</td>\n",
       "      <td>309</td>\n",
       "    </tr>\n",
       "    <tr>\n",
       "      <th>24</th>\n",
       "      <td>4</td>\n",
       "      <td>Bihar</td>\n",
       "      <td>2017</td>\n",
       "      <td>117153097</td>\n",
       "      <td>24100000.0</td>\n",
       "      <td>12030000.0</td>\n",
       "      <td>23810000.0</td>\n",
       "      <td>433</td>\n",
       "    </tr>\n",
       "    <tr>\n",
       "      <th>25</th>\n",
       "      <td>4</td>\n",
       "      <td>Bihar</td>\n",
       "      <td>2018</td>\n",
       "      <td>121741741</td>\n",
       "      <td>28400000.0</td>\n",
       "      <td>20520000.0</td>\n",
       "      <td>28130000.0</td>\n",
       "      <td>374</td>\n",
       "    </tr>\n",
       "  </tbody>\n",
       "</table>\n",
       "</div>"
      ],
      "text/plain": [
       "    Unique Code  State  Year  Population  Total Internet Subscriptions  \\\n",
       "21            4  Bihar  2014   107823158                    11850000.0   \n",
       "22            4  Bihar  2015   109798353                    16580000.0   \n",
       "23            4  Bihar  2016   113042198                    19630000.0   \n",
       "24            4  Bihar  2017   117153097                    24100000.0   \n",
       "25            4  Bihar  2018   121741741                    28400000.0   \n",
       "\n",
       "    Total Broadband Subscriptions  Total Wireless internet Subscriptions  \\\n",
       "21                      2100000.0                             11570000.0   \n",
       "22                      3150000.0                             16300000.0   \n",
       "23                      5820000.0                             19340000.0   \n",
       "24                     12030000.0                             23810000.0   \n",
       "25                     20520000.0                             28130000.0   \n",
       "\n",
       "    Cases Reported  \n",
       "21             114  \n",
       "22             242  \n",
       "23             309  \n",
       "24             433  \n",
       "25             374  "
      ]
     },
     "execution_count": 47,
     "metadata": {},
     "output_type": "execute_result"
    }
   ],
   "source": [
    "one_state.head()"
   ]
  },
  {
   "cell_type": "code",
   "execution_count": 48,
   "metadata": {
    "execution": {
     "iopub.execute_input": "2022-09-24T07:29:43.581602Z",
     "iopub.status.busy": "2022-09-24T07:29:43.581097Z",
     "iopub.status.idle": "2022-09-24T07:29:44.834829Z",
     "shell.execute_reply": "2022-09-24T07:29:44.833749Z",
     "shell.execute_reply.started": "2022-09-24T07:29:43.581544Z"
    }
   },
   "outputs": [
    {
     "data": {
      "image/png": "[encoded data removed]",
      "text/plain": [
       "<Figure size 2800x1600 with 5 Axes>"
      ]
     },
     "metadata": {
      "needs_background": "light"
     },
     "output_type": "display_data"
    }
   ],
   "source": [
    "fig, axes = plt.subplots(nrows=2, ncols=3, figsize=(14,8), dpi=200)\n",
    "\n",
    "axes[0,0].plot(one_state['Year'], one_state['Cases Reported'], 'o',  markersize=10)\n",
    "axes[0,0].plot(one_state['Year'], predicted_crimes, 'o', color='red', markersize=10)\n",
    "axes[0,0].set_ylabel('Cases Reported')\n",
    "axes[0,0].set_xlabel('Year')\n",
    "\n",
    "axes[0,1].plot(one_state['Population'], one_state['Cases Reported'], 'o', markersize=10)\n",
    "axes[0,1].plot(one_state['Population'], predicted_crimes, 'o', color='red', markersize=10)\n",
    "axes[0,1].set_ylabel('Cases Reported')\n",
    "axes[0,1].set_xlabel('Population')\n",
    "\n",
    "axes[0,2].plot(one_state['Total Internet Subscriptions'], one_state['Cases Reported'], 'o', markersize=10)\n",
    "axes[0,2].plot(one_state['Total Internet Subscriptions'], predicted_crimes, 'o', color='red', markersize=10)\n",
    "axes[0,2].set_ylabel('Cases Reported')\n",
    "axes[0,2].set_xlabel('Total Internet Subscriptions')\n",
    "\n",
    "axes[1,0].plot(one_state['Total Broadband Subscriptions'], one_state['Cases Reported'], 'o', markersize=10)\n",
    "axes[1,0].plot(one_state['Total Broadband Subscriptions'], predicted_crimes, 'o', color='red', markersize=10)\n",
    "axes[1,0].set_ylabel('Cases Reported')\n",
    "axes[1,0].set_xlabel('Total Broadband Subscriptions')\n",
    "\n",
    "axes[1,1].plot(one_state['Total Wireless internet Subscriptions'], one_state['Cases Reported'], 'o', markersize=10)\n",
    "axes[1,1].plot(one_state['Total Wireless internet Subscriptions'], predicted_crimes, 'o', color='red', markersize=10)\n",
    "axes[1,1].set_ylabel('Cases Reported')\n",
    "axes[1,1].set_xlabel('Total Wireless internet Subscriptions')\n",
    "\n",
    "fig.delaxes(axes[1,2])\n",
    "\n",
    "plt.tight_layout()"
   ]
  },
  {
   "cell_type": "code",
   "execution_count": 49,
   "metadata": {
    "execution": {
     "iopub.execute_input": "2022-09-24T07:29:44.836450Z",
     "iopub.status.busy": "2022-09-24T07:29:44.836067Z",
     "iopub.status.idle": "2022-09-24T07:29:44.846852Z",
     "shell.execute_reply": "2022-09-24T07:29:44.845746Z",
     "shell.execute_reply.started": "2022-09-24T07:29:44.836417Z"
    }
   },
   "outputs": [
    {
     "data": {
      "text/plain": [
       "array([-2.94123516e+02,  1.29440299e-05,  7.87757733e-03, -2.88240718e-06,\n",
       "       -7.79369534e-03])"
      ]
     },
     "execution_count": 49,
     "metadata": {},
     "output_type": "execute_result"
    }
   ],
   "source": [
    "dump(final_model, 'saved_model.joblib')\n",
    "loaded_model = load('saved_model.joblib')\n",
    "loaded_model.coef_"
   ]
  },
  {
   "cell_type": "code",
   "execution_count": 50,
   "metadata": {
    "execution": {
     "iopub.execute_input": "2022-09-24T07:29:44.849023Z",
     "iopub.status.busy": "2022-09-24T07:29:44.848488Z",
     "iopub.status.idle": "2022-09-24T07:29:44.857259Z",
     "shell.execute_reply": "2022-09-24T07:29:44.855691Z",
     "shell.execute_reply.started": "2022-09-24T07:29:44.848990Z"
    }
   },
   "outputs": [
    {
     "data": {
      "text/plain": [
       "(7, 5)"
      ]
     },
     "execution_count": 50,
     "metadata": {},
     "output_type": "execute_result"
    }
   ],
   "source": [
    "X.shape"
   ]
  },
  {
   "cell_type": "code",
   "execution_count": 51,
   "metadata": {
    "execution": {
     "iopub.execute_input": "2022-09-24T07:29:44.861074Z",
     "iopub.status.busy": "2022-09-24T07:29:44.859852Z",
     "iopub.status.idle": "2022-09-24T07:29:44.878983Z",
     "shell.execute_reply": "2022-09-24T07:29:44.877625Z",
     "shell.execute_reply.started": "2022-09-24T07:29:44.861039Z"
    }
   },
   "outputs": [
    {
     "data": {
      "text/html": [
       "<div>\n",
       "<style scoped>\n",
       "    .dataframe tbody tr th:only-of-type {\n",
       "        vertical-align: middle;\n",
       "    }\n",
       "\n",
       "    .dataframe tbody tr th {\n",
       "        vertical-align: top;\n",
       "    }\n",
       "\n",
       "    .dataframe thead th {\n",
       "        text-align: right;\n",
       "    }\n",
       "</style>\n",
       "<table border=\"1\" class=\"dataframe\">\n",
       "  <thead>\n",
       "    <tr style=\"text-align: right;\">\n",
       "      <th></th>\n",
       "      <th>Year</th>\n",
       "      <th>Population</th>\n",
       "      <th>Total Internet Subscriptions</th>\n",
       "      <th>Total Broadband Subscriptions</th>\n",
       "      <th>Total Wireless internet Subscriptions</th>\n",
       "    </tr>\n",
       "  </thead>\n",
       "  <tbody>\n",
       "    <tr>\n",
       "      <th>21</th>\n",
       "      <td>2014</td>\n",
       "      <td>107823158</td>\n",
       "      <td>11850000.0</td>\n",
       "      <td>2100000.0</td>\n",
       "      <td>11570000.0</td>\n",
       "    </tr>\n",
       "    <tr>\n",
       "      <th>22</th>\n",
       "      <td>2015</td>\n",
       "      <td>109798353</td>\n",
       "      <td>16580000.0</td>\n",
       "      <td>3150000.0</td>\n",
       "      <td>16300000.0</td>\n",
       "    </tr>\n",
       "    <tr>\n",
       "      <th>23</th>\n",
       "      <td>2016</td>\n",
       "      <td>113042198</td>\n",
       "      <td>19630000.0</td>\n",
       "      <td>5820000.0</td>\n",
       "      <td>19340000.0</td>\n",
       "    </tr>\n",
       "    <tr>\n",
       "      <th>24</th>\n",
       "      <td>2017</td>\n",
       "      <td>117153097</td>\n",
       "      <td>24100000.0</td>\n",
       "      <td>12030000.0</td>\n",
       "      <td>23810000.0</td>\n",
       "    </tr>\n",
       "    <tr>\n",
       "      <th>25</th>\n",
       "      <td>2018</td>\n",
       "      <td>121741741</td>\n",
       "      <td>28400000.0</td>\n",
       "      <td>20520000.0</td>\n",
       "      <td>28130000.0</td>\n",
       "    </tr>\n",
       "    <tr>\n",
       "      <th>26</th>\n",
       "      <td>2019</td>\n",
       "      <td>122256981</td>\n",
       "      <td>39340000.0</td>\n",
       "      <td>33140000.0</td>\n",
       "      <td>39060000.0</td>\n",
       "    </tr>\n",
       "    <tr>\n",
       "      <th>27</th>\n",
       "      <td>2020</td>\n",
       "      <td>124799926</td>\n",
       "      <td>48390000.0</td>\n",
       "      <td>43950000.0</td>\n",
       "      <td>48110000.0</td>\n",
       "    </tr>\n",
       "  </tbody>\n",
       "</table>\n",
       "</div>"
      ],
      "text/plain": [
       "    Year  Population  Total Internet Subscriptions  \\\n",
       "21  2014   107823158                    11850000.0   \n",
       "22  2015   109798353                    16580000.0   \n",
       "23  2016   113042198                    19630000.0   \n",
       "24  2017   117153097                    24100000.0   \n",
       "25  2018   121741741                    28400000.0   \n",
       "26  2019   122256981                    39340000.0   \n",
       "27  2020   124799926                    48390000.0   \n",
       "\n",
       "    Total Broadband Subscriptions  Total Wireless internet Subscriptions  \n",
       "21                      2100000.0                             11570000.0  \n",
       "22                      3150000.0                             16300000.0  \n",
       "23                      5820000.0                             19340000.0  \n",
       "24                     12030000.0                             23810000.0  \n",
       "25                     20520000.0                             28130000.0  \n",
       "26                     33140000.0                             39060000.0  \n",
       "27                     43950000.0                             48110000.0  "
      ]
     },
     "execution_count": 51,
     "metadata": {},
     "output_type": "execute_result"
    }
   ],
   "source": [
    "X"
   ]
  },
  {
   "cell_type": "code",
   "execution_count": 52,
   "metadata": {
    "execution": {
     "iopub.execute_input": "2022-09-24T07:29:44.881454Z",
     "iopub.status.busy": "2022-09-24T07:29:44.880996Z",
     "iopub.status.idle": "2022-09-24T07:29:44.891772Z",
     "shell.execute_reply": "2022-09-24T07:29:44.890484Z",
     "shell.execute_reply.started": "2022-09-24T07:29:44.881410Z"
    }
   },
   "outputs": [
    {
     "data": {
      "text/plain": [
       "21     114\n",
       "22     242\n",
       "23     309\n",
       "24     433\n",
       "25     374\n",
       "26    1050\n",
       "27    1512\n",
       "Name: Cases Reported, dtype: int64"
      ]
     },
     "execution_count": 52,
     "metadata": {},
     "output_type": "execute_result"
    }
   ],
   "source": [
    "y"
   ]
  },
  {
   "cell_type": "code",
   "execution_count": 53,
   "metadata": {
    "execution": {
     "iopub.execute_input": "2022-09-24T07:29:44.893969Z",
     "iopub.status.busy": "2022-09-24T07:29:44.893211Z",
     "iopub.status.idle": "2022-09-24T07:29:44.911619Z",
     "shell.execute_reply": "2022-09-24T07:29:44.910619Z",
     "shell.execute_reply.started": "2022-09-24T07:29:44.893933Z"
    }
   },
   "outputs": [
    {
     "data": {
      "text/html": [
       "<div>\n",
       "<style scoped>\n",
       "    .dataframe tbody tr th:only-of-type {\n",
       "        vertical-align: middle;\n",
       "    }\n",
       "\n",
       "    .dataframe tbody tr th {\n",
       "        vertical-align: top;\n",
       "    }\n",
       "\n",
       "    .dataframe thead th {\n",
       "        text-align: right;\n",
       "    }\n",
       "</style>\n",
       "<table border=\"1\" class=\"dataframe\">\n",
       "  <thead>\n",
       "    <tr style=\"text-align: right;\">\n",
       "      <th></th>\n",
       "      <th>State/UT</th>\n",
       "      <th>Cases in 2015</th>\n",
       "      <th>Cases in 2016</th>\n",
       "      <th>Cases in 2017</th>\n",
       "      <th>Cases in 2018</th>\n",
       "      <th>Cases in 2019</th>\n",
       "      <th>Cases in 2020</th>\n",
       "      <th>Cases in 2021</th>\n",
       "      <th>Total Crimes</th>\n",
       "    </tr>\n",
       "  </thead>\n",
       "  <tbody>\n",
       "    <tr>\n",
       "      <th>0</th>\n",
       "      <td>Andhra Pradesh</td>\n",
       "      <td>536</td>\n",
       "      <td>616</td>\n",
       "      <td>931</td>\n",
       "      <td>1207</td>\n",
       "      <td>1886</td>\n",
       "      <td>2436</td>\n",
       "      <td>2645</td>\n",
       "      <td>10257</td>\n",
       "    </tr>\n",
       "    <tr>\n",
       "      <th>1</th>\n",
       "      <td>Arunachal Pradesh</td>\n",
       "      <td>6</td>\n",
       "      <td>4</td>\n",
       "      <td>1</td>\n",
       "      <td>7</td>\n",
       "      <td>8</td>\n",
       "      <td>10</td>\n",
       "      <td>13</td>\n",
       "      <td>49</td>\n",
       "    </tr>\n",
       "    <tr>\n",
       "      <th>2</th>\n",
       "      <td>Assam</td>\n",
       "      <td>483</td>\n",
       "      <td>696</td>\n",
       "      <td>1120</td>\n",
       "      <td>2022</td>\n",
       "      <td>2231</td>\n",
       "      <td>2765</td>\n",
       "      <td>3024</td>\n",
       "      <td>12341</td>\n",
       "    </tr>\n",
       "    <tr>\n",
       "      <th>3</th>\n",
       "      <td>Bihar</td>\n",
       "      <td>242</td>\n",
       "      <td>309</td>\n",
       "      <td>433</td>\n",
       "      <td>374</td>\n",
       "      <td>1050</td>\n",
       "      <td>1345</td>\n",
       "      <td>1654</td>\n",
       "      <td>5407</td>\n",
       "    </tr>\n",
       "    <tr>\n",
       "      <th>4</th>\n",
       "      <td>Chhattisgarh</td>\n",
       "      <td>103</td>\n",
       "      <td>90</td>\n",
       "      <td>171</td>\n",
       "      <td>139</td>\n",
       "      <td>175</td>\n",
       "      <td>234</td>\n",
       "      <td>315</td>\n",
       "      <td>1227</td>\n",
       "    </tr>\n",
       "  </tbody>\n",
       "</table>\n",
       "</div>"
      ],
      "text/plain": [
       "            State/UT  Cases in 2015  Cases in 2016  Cases in 2017  \\\n",
       "0     Andhra Pradesh            536            616            931   \n",
       "1  Arunachal Pradesh              6              4              1   \n",
       "2              Assam            483            696           1120   \n",
       "3              Bihar            242            309            433   \n",
       "4       Chhattisgarh            103             90            171   \n",
       "\n",
       "   Cases in 2018  Cases in 2019  Cases in 2020  Cases in 2021  Total Crimes  \n",
       "0           1207           1886           2436           2645         10257  \n",
       "1              7              8             10             13            49  \n",
       "2           2022           2231           2765           3024         12341  \n",
       "3            374           1050           1345           1654          5407  \n",
       "4            139            175            234            315          1227  "
      ]
     },
     "execution_count": 53,
     "metadata": {},
     "output_type": "execute_result"
    }
   ],
   "source": [
    "data.head()"
   ]
  },
  {
   "cell_type": "code",
   "execution_count": 54,
   "metadata": {
    "execution": {
     "iopub.execute_input": "2022-09-24T07:29:44.913691Z",
     "iopub.status.busy": "2022-09-24T07:29:44.912998Z",
     "iopub.status.idle": "2022-09-24T07:29:44.930961Z",
     "shell.execute_reply": "2022-09-24T07:29:44.929685Z",
     "shell.execute_reply.started": "2022-09-24T07:29:44.913659Z"
    }
   },
   "outputs": [
    {
     "data": {
      "text/html": [
       "<div>\n",
       "<style scoped>\n",
       "    .dataframe tbody tr th:only-of-type {\n",
       "        vertical-align: middle;\n",
       "    }\n",
       "\n",
       "    .dataframe tbody tr th {\n",
       "        vertical-align: top;\n",
       "    }\n",
       "\n",
       "    .dataframe thead th {\n",
       "        text-align: right;\n",
       "    }\n",
       "</style>\n",
       "<table border=\"1\" class=\"dataframe\">\n",
       "  <thead>\n",
       "    <tr style=\"text-align: right;\">\n",
       "      <th></th>\n",
       "      <th>Unique Code</th>\n",
       "      <th>State</th>\n",
       "      <th>Year</th>\n",
       "      <th>Population</th>\n",
       "      <th>Total Internet Subscriptions</th>\n",
       "      <th>Total Broadband Subscriptions</th>\n",
       "      <th>Total Wireless internet Subscriptions</th>\n",
       "      <th>Cases Reported</th>\n",
       "    </tr>\n",
       "  </thead>\n",
       "  <tbody>\n",
       "    <tr>\n",
       "      <th>21</th>\n",
       "      <td>4</td>\n",
       "      <td>Bihar</td>\n",
       "      <td>2014</td>\n",
       "      <td>107823158</td>\n",
       "      <td>11850000.0</td>\n",
       "      <td>2100000.0</td>\n",
       "      <td>11570000.0</td>\n",
       "      <td>114</td>\n",
       "    </tr>\n",
       "    <tr>\n",
       "      <th>22</th>\n",
       "      <td>4</td>\n",
       "      <td>Bihar</td>\n",
       "      <td>2015</td>\n",
       "      <td>109798353</td>\n",
       "      <td>16580000.0</td>\n",
       "      <td>3150000.0</td>\n",
       "      <td>16300000.0</td>\n",
       "      <td>242</td>\n",
       "    </tr>\n",
       "    <tr>\n",
       "      <th>23</th>\n",
       "      <td>4</td>\n",
       "      <td>Bihar</td>\n",
       "      <td>2016</td>\n",
       "      <td>113042198</td>\n",
       "      <td>19630000.0</td>\n",
       "      <td>5820000.0</td>\n",
       "      <td>19340000.0</td>\n",
       "      <td>309</td>\n",
       "    </tr>\n",
       "    <tr>\n",
       "      <th>24</th>\n",
       "      <td>4</td>\n",
       "      <td>Bihar</td>\n",
       "      <td>2017</td>\n",
       "      <td>117153097</td>\n",
       "      <td>24100000.0</td>\n",
       "      <td>12030000.0</td>\n",
       "      <td>23810000.0</td>\n",
       "      <td>433</td>\n",
       "    </tr>\n",
       "    <tr>\n",
       "      <th>25</th>\n",
       "      <td>4</td>\n",
       "      <td>Bihar</td>\n",
       "      <td>2018</td>\n",
       "      <td>121741741</td>\n",
       "      <td>28400000.0</td>\n",
       "      <td>20520000.0</td>\n",
       "      <td>28130000.0</td>\n",
       "      <td>374</td>\n",
       "    </tr>\n",
       "    <tr>\n",
       "      <th>26</th>\n",
       "      <td>4</td>\n",
       "      <td>Bihar</td>\n",
       "      <td>2019</td>\n",
       "      <td>122256981</td>\n",
       "      <td>39340000.0</td>\n",
       "      <td>33140000.0</td>\n",
       "      <td>39060000.0</td>\n",
       "      <td>1050</td>\n",
       "    </tr>\n",
       "    <tr>\n",
       "      <th>27</th>\n",
       "      <td>4</td>\n",
       "      <td>Bihar</td>\n",
       "      <td>2020</td>\n",
       "      <td>124799926</td>\n",
       "      <td>48390000.0</td>\n",
       "      <td>43950000.0</td>\n",
       "      <td>48110000.0</td>\n",
       "      <td>1512</td>\n",
       "    </tr>\n",
       "  </tbody>\n",
       "</table>\n",
       "</div>"
      ],
      "text/plain": [
       "    Unique Code  State  Year  Population  Total Internet Subscriptions  \\\n",
       "21            4  Bihar  2014   107823158                    11850000.0   \n",
       "22            4  Bihar  2015   109798353                    16580000.0   \n",
       "23            4  Bihar  2016   113042198                    19630000.0   \n",
       "24            4  Bihar  2017   117153097                    24100000.0   \n",
       "25            4  Bihar  2018   121741741                    28400000.0   \n",
       "26            4  Bihar  2019   122256981                    39340000.0   \n",
       "27            4  Bihar  2020   124799926                    48390000.0   \n",
       "\n",
       "    Total Broadband Subscriptions  Total Wireless internet Subscriptions  \\\n",
       "21                      2100000.0                             11570000.0   \n",
       "22                      3150000.0                             16300000.0   \n",
       "23                      5820000.0                             19340000.0   \n",
       "24                     12030000.0                             23810000.0   \n",
       "25                     20520000.0                             28130000.0   \n",
       "26                     33140000.0                             39060000.0   \n",
       "27                     43950000.0                             48110000.0   \n",
       "\n",
       "    Cases Reported  \n",
       "21             114  \n",
       "22             242  \n",
       "23             309  \n",
       "24             433  \n",
       "25             374  \n",
       "26            1050  \n",
       "27            1512  "
      ]
     },
     "execution_count": 54,
     "metadata": {},
     "output_type": "execute_result"
    }
   ],
   "source": [
    "years_known = [2014, 2015, 2016, 2017, 2018, 2019, 2020]\n",
    "state=state_info['state']\n",
    "all_states = list(set(df['State'].to_list()))\n",
    "all_states\n",
    "all_states.sort()\n",
    "state_df = df[df['State'] == state]\n",
    "state_df"
   ]
  },
  {
   "cell_type": "code",
   "execution_count": 55,
   "metadata": {
    "execution": {
     "iopub.execute_input": "2022-09-24T07:29:44.933626Z",
     "iopub.status.busy": "2022-09-24T07:29:44.932866Z",
     "iopub.status.idle": "2022-09-24T07:29:44.941111Z",
     "shell.execute_reply": "2022-09-24T07:29:44.940092Z",
     "shell.execute_reply.started": "2022-09-24T07:29:44.933582Z"
    }
   },
   "outputs": [
    {
     "data": {
      "text/plain": [
       "[114, 242, 309, 433, 374, 1050, 1512]"
      ]
     },
     "execution_count": 55,
     "metadata": {},
     "output_type": "execute_result"
    }
   ],
   "source": [
    "years_data_known = state_df['Cases Reported'].to_list()\n",
    "years_data_known"
   ]
  },
  {
   "cell_type": "code",
   "execution_count": 56,
   "metadata": {
    "execution": {
     "iopub.execute_input": "2022-09-24T07:29:44.942563Z",
     "iopub.status.busy": "2022-09-24T07:29:44.942168Z",
     "iopub.status.idle": "2022-09-24T07:29:44.956539Z",
     "shell.execute_reply": "2022-09-24T07:29:44.955489Z",
     "shell.execute_reply.started": "2022-09-24T07:29:44.942525Z"
    }
   },
   "outputs": [],
   "source": [
    "years_display = [x for x in years_known]\n",
    "years_display.append(int(state_info['year']))\n",
    "sample_input=[]\n",
    "sample_input.append(state_info['year'])\n",
    "sample_input.append(state_info['population'])\n",
    "sample_input.append(state_info['tis'])\n",
    "sample_input.append(state_info['tbs'])\n",
    "sample_input.append(state_info['twis'])\n",
    "input=[[int(n) for n in sample_input]]\n",
    "result=loaded_model.predict(input)\n",
    "year=input[0][0]\n",
    "years_known.append(year)\n",
    "state_data = state_df.to_dict(orient='list')\n",
    "years_data_known.append(result[0])\n"
   ]
  },
  {
   "cell_type": "code",
   "execution_count": 58,
   "metadata": {
    "execution": {
     "iopub.execute_input": "2022-09-24T07:29:44.959084Z",
     "iopub.status.busy": "2022-09-24T07:29:44.958289Z",
     "iopub.status.idle": "2022-09-24T07:29:45.191779Z",
     "shell.execute_reply": "2022-09-24T07:29:45.190797Z",
     "shell.execute_reply.started": "2022-09-24T07:29:44.959039Z"
    }
   },
   "outputs": [
    {
     "name": "stdout",
     "output_type": "stream",
     "text": [
      "State: Bihar\n",
      "Predicted crime in 2023 is 20991\n"
     ]
    },
    {
     "data": {
      "image/png": "[encoded data removed]",
      "text/plain": [
       "<Figure size 720x432 with 1 Axes>"
      ]
     },
     "metadata": {
      "needs_background": "light"
     },
     "output_type": "display_data"
    }
   ],
   "source": [
    "#grapgh of prediction\n",
    "out=result[0]\n",
    "plt.rcParams[\"figure.figsize\"] = (10,6)\n",
    "plt.xlabel('Years')\n",
    "plt.ylabel('Number of crimes')\n",
    "plt.plot(years_known,years_data_known)\n",
    "print(\"State:\",state)\n",
    "print(\"Predicted crime in\",year,\"is\",int(out))"
   ]
  },
  {
   "cell_type": "code",
   "execution_count": 61,
   "metadata": {},
   "outputs": [
    {
     "data": {
      "text/plain": [
       "-0.24064993389174694"
      ]
     },
     "execution_count": 61,
     "metadata": {},
     "output_type": "execute_result"
    }
   ],
   "source": [
    "model.score(X_test,y_test)"
   ]
  },
  {
   "cell_type": "code",
   "execution_count": null,
   "metadata": {},
   "outputs": [],
   "source": []
  }
 ],
 "metadata": {
  "kernelspec": {
   "display_name": "Python 3 (ipykernel)",
   "language": "python",
   "name": "python3"
  },
  "language_info": {
   "codemirror_mode": {
    "name": "ipython",
    "version": 3
   },
   "file_extension": ".py",
   "mimetype": "text/x-python",
   "name": "python",
   "nbconvert_exporter": "python",
   "pygments_lexer": "ipython3",
   "version": "3.9.12"
  }
 },
 "nbformat": 4,
 "nbformat_minor": 4
}
